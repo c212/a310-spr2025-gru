{
  "nbformat": 4,
  "nbformat_minor": 0,
  "metadata": {
    "colab": {
      "provenance": []
    },
    "kernelspec": {
      "name": "python3",
      "display_name": "Python 3"
    },
    "language_info": {
      "name": "python"
    }
  },
  "cells": [
    {
      "cell_type": "code",
      "execution_count": 1,
      "metadata": {
        "id": "QCAuO8Mest5c"
      },
      "outputs": [],
      "source": [
        "from math import comb\n",
        "def p():\n",
        "  n = 4\n",
        "  k = 2\n",
        "  p = 0.5\n",
        "  return comb(n, k) * (p**k) * (p ** (n-k))"
      ]
    },
    {
      "cell_type": "code",
      "source": [
        "p()"
      ],
      "metadata": {
        "colab": {
          "base_uri": "https://localhost:8080/"
        },
        "id": "f7Ma9Pc1s6mN",
        "outputId": "2adcbbd5-becd-43ff-8b20-193fdae1423f"
      },
      "execution_count": 2,
      "outputs": [
        {
          "output_type": "execute_result",
          "data": {
            "text/plain": [
              "0.375"
            ]
          },
          "metadata": {},
          "execution_count": 2
        }
      ]
    },
    {
      "cell_type": "code",
      "source": [
        "import numpy as np"
      ],
      "metadata": {
        "id": "8AnyMoY8s9JH"
      },
      "execution_count": 3,
      "outputs": []
    },
    {
      "cell_type": "code",
      "source": [
        "die_roll = np.random.randint(1, 7)\n",
        "assert 1 <= die_roll <= 6"
      ],
      "metadata": {
        "id": "TtEeGj9LIBhr"
      },
      "execution_count": 4,
      "outputs": []
    },
    {
      "cell_type": "code",
      "source": [
        "np.random.seed(0)\n",
        "die_rolls = [np.random.randint(1, 7) for _ in range(3)]\n",
        "assert die_rolls == [5, 6, 1]"
      ],
      "metadata": {
        "id": "CWJH3x1TIE96"
      },
      "execution_count": 5,
      "outputs": []
    },
    {
      "cell_type": "code",
      "source": [
        "np.random.seed(0)\n",
        "coin_flip = np.random.randint(0, 2)\n",
        "print(f\"Coin landed on {'heads' if coin_flip == 1 else 'tails'}\")"
      ],
      "metadata": {
        "colab": {
          "base_uri": "https://localhost:8080/"
        },
        "id": "yJ7biMYSIKS6",
        "outputId": "0fa6a399-78a0-4f77-b17d-491a42900232"
      },
      "execution_count": 6,
      "outputs": [
        {
          "output_type": "stream",
          "name": "stdout",
          "text": [
            "Coin landed on tails\n"
          ]
        }
      ]
    },
    {
      "cell_type": "code",
      "source": [
        "np.random.seed(0)\n",
        "def frequency_heads(coin_flip_sequence):\n",
        "    total_heads = len([head for head in coin_flip_sequence if head == 1])\n",
        "    return total_heads / len(coin_flip_sequence)\n",
        "coin_flips = [np.random.randint(0, 2) for _ in range(10)]\n",
        "freq_heads = frequency_heads(coin_flips)\n",
        "print(f\"Frequency of Heads is {freq_heads}\")"
      ],
      "metadata": {
        "colab": {
          "base_uri": "https://localhost:8080/"
        },
        "id": "MCAAGy02IUzd",
        "outputId": "807b566a-8698-4aeb-c33d-8fcac18247d5"
      },
      "execution_count": 7,
      "outputs": [
        {
          "output_type": "stream",
          "name": "stdout",
          "text": [
            "Frequency of Heads is 0.8\n"
          ]
        }
      ]
    },
    {
      "cell_type": "code",
      "source": [
        "import matplotlib.pyplot as plt\n",
        "np.random.seed(0)\n",
        "coin_flips = []\n",
        "frequencies = []\n",
        "num = 1000\n",
        "for _ in range(num):\n",
        "    coin_flips.append(np.random.randint(0, 2))\n",
        "    frequencies.append(frequency_heads(coin_flips))\n",
        "plt.plot(list(range(num)), frequencies)\n",
        "plt.axhline(0.5, color='k')\n",
        "plt.xlabel('Number of Coin Flips')\n",
        "plt.ylabel('Head-Frequency')\n",
        "plt.show()"
      ],
      "metadata": {
        "colab": {
          "base_uri": "https://localhost:8080/",
          "height": 449
        },
        "id": "87xxBJpaIa_K",
        "outputId": "890fa7dd-e1a2-42e8-e1aa-864094eb710b"
      },
      "execution_count": 8,
      "outputs": [
        {
          "output_type": "display_data",
          "data": {
            "text/plain": [
              "<Figure size 640x480 with 1 Axes>"
            ],
            "image/png": "[encoded data removed]"
          },
          "metadata": {}
        }
      ]
    },
    {
      "cell_type": "code",
      "source": [
        "np.random.seed(0)\n",
        "print(\"Let's flip the biased coin once.\")\n",
        "coin_flip = np.random.binomial(1, 0.7)\n",
        "print(f\"Biased coin landed on {'heads' if coin_flip == 1 else 'tails'}.\")\n",
        "print(\"\\nLet's flip the biased coin 10 times.\")\n",
        "number_coin_flips = 10\n",
        "head_count = np.random.binomial(number_coin_flips, .7)\n",
        "print((f\"{head_count} heads were observed out of \"\n",
        "       f\"{number_coin_flips} biased coin flips\"))"
      ],
      "metadata": {
        "colab": {
          "base_uri": "https://localhost:8080/"
        },
        "id": "rI3jiY2NI8YV",
        "outputId": "6423e0d8-f0c3-4963-d897-f76916ff44be"
      },
      "execution_count": 9,
      "outputs": [
        {
          "output_type": "stream",
          "name": "stdout",
          "text": [
            "Let's flip the biased coin once.\n",
            "Biased coin landed on heads.\n",
            "\n",
            "Let's flip the biased coin 10 times.\n",
            "6 heads were observed out of 10 biased coin flips\n"
          ]
        }
      ]
    },
    {
      "cell_type": "code",
      "source": [
        "np.random.seed(0)\n",
        "num = 10000\n",
        "head_count = np.random.binomial(num, 0.7)\n",
        "frequency = head_count / num\n",
        "print(f\"Frequency of Heads is {frequency}\")"
      ],
      "metadata": {
        "colab": {
          "base_uri": "https://localhost:8080/"
        },
        "id": "Crg8wZ9INuRp",
        "outputId": "c8858516-ccef-4882-ce7c-98da6003143e"
      },
      "execution_count": 10,
      "outputs": [
        {
          "output_type": "stream",
          "name": "stdout",
          "text": [
            "Frequency of Heads is 0.6998\n"
          ]
        }
      ]
    },
    {
      "cell_type": "code",
      "source": [
        "np.random.seed(0)\n",
        "assert np.random.binomial(1000, 0.7) / 1000 == 0.697\n",
        "for i in range(1, 6):\n",
        "    head_count = np.random.binomial(1000, 0.7)\n",
        "    frequency = head_count / 1000\n",
        "    print(f\"Frequency at iteration {i} is {frequency}\")\n",
        "    if frequency == 0.7:\n",
        "        print(\"Frequency equals the probability!\\n\")"
      ],
      "metadata": {
        "colab": {
          "base_uri": "https://localhost:8080/"
        },
        "id": "rhNUz0CEOGSt",
        "outputId": "18aac0cf-ca44-468d-b965-0c09e010d4b4"
      },
      "execution_count": 11,
      "outputs": [
        {
          "output_type": "stream",
          "name": "stdout",
          "text": [
            "Frequency at iteration 1 is 0.69\n",
            "Frequency at iteration 2 is 0.7\n",
            "Frequency equals the probability!\n",
            "\n",
            "Frequency at iteration 3 is 0.707\n",
            "Frequency at iteration 4 is 0.702\n",
            "Frequency at iteration 5 is 0.699\n"
          ]
        }
      ]
    },
    {
      "cell_type": "code",
      "source": [
        "np.random.seed(0)\n",
        "head_count_array = np.random.binomial(1000, 0.7, 500)"
      ],
      "metadata": {
        "id": "gH5hl9OvObf-"
      },
      "execution_count": 12,
      "outputs": []
    },
    {
      "cell_type": "code",
      "source": [
        "head_count_array"
      ],
      "metadata": {
        "colab": {
          "base_uri": "https://localhost:8080/"
        },
        "id": "Hs6zPdYWQFj_",
        "outputId": "fbba1d67-3b89-4b63-ffb6-c948c99de37a"
      },
      "execution_count": 13,
      "outputs": [
        {
          "output_type": "execute_result",
          "data": {
            "text/plain": [
              "array([697, 690, 700, 707, 702, 699, 723, 670, 702, 713, 721, 689, 711,\n",
              "       697, 717, 691, 731, 697, 722, 728, 695, 697, 688, 696, 679, 687,\n",
              "       696, 676, 702, 695, 692, 666, 668, 713, 691, 691, 698, 717, 683,\n",
              "       680, 702, 705, 715, 693, 675, 693, 726, 706, 691, 718, 705, 721,\n",
              "       697, 716, 699, 708, 680, 686, 703, 692, 694, 684, 679, 707, 722,\n",
              "       718, 711, 719, 685, 670, 710, 715, 679, 692, 712, 720, 711, 682,\n",
              "       732, 694, 715, 689, 719, 713, 698, 710, 707, 689, 701, 726, 703,\n",
              "       679, 721, 697, 699, 698, 711, 719, 724, 731, 695, 679, 703, 697,\n",
              "       705, 686, 682, 718, 681, 708, 712, 677, 693, 693, 726, 705, 711,\n",
              "       671, 713, 717, 730, 698, 712, 674, 689, 666, 697, 688, 695, 685,\n",
              "       720, 671, 688, 689, 696, 716, 706, 699, 727, 698, 692, 706, 702,\n",
              "       699, 715, 717, 700, 683, 690, 682, 687, 703, 673, 696, 696, 692,\n",
              "       710, 718, 690, 716, 721, 709, 694, 697, 687, 733, 696, 684, 709,\n",
              "       713, 726, 695, 705, 709, 723, 685, 693, 675, 712, 704, 698, 695,\n",
              "       713, 671, 687, 687, 703, 709, 708, 690, 684, 720, 708, 673, 700,\n",
              "       671, 716, 692, 723, 699, 705, 695, 689, 691, 705, 698, 731, 705,\n",
              "       705, 712, 709, 667, 705, 679, 684, 692, 704, 697, 699, 712, 686,\n",
              "       702, 705, 694, 701, 685, 719, 710, 704, 708, 709, 681, 694, 695,\n",
              "       718, 691, 688, 702, 696, 722, 702, 699, 677, 670, 705, 703, 674,\n",
              "       704, 718, 707, 712, 683, 722, 700, 723, 727, 715, 698, 712, 702,\n",
              "       725, 688, 695, 688, 690, 656, 706, 693, 711, 706, 696, 671, 707,\n",
              "       690, 704, 696, 698, 696, 665, 688, 686, 695, 694, 687, 683, 708,\n",
              "       706, 703, 694, 727, 695, 676, 707, 692, 720, 713, 685, 689, 688,\n",
              "       692, 702, 690, 699, 693, 691, 722, 709, 705, 699, 697, 707, 724,\n",
              "       708, 708, 689, 692, 698, 703, 700, 726, 705, 676, 666, 703, 672,\n",
              "       714, 684, 698, 687, 691, 670, 726, 695, 673, 695, 706, 700, 689,\n",
              "       685, 683, 678, 671, 690, 703, 717, 693, 702, 713, 701, 704, 711,\n",
              "       679, 684, 718, 715, 677, 675, 708, 687, 719, 705, 714, 699, 720,\n",
              "       706, 704, 729, 698, 702, 701, 684, 678, 687, 699, 692, 715, 697,\n",
              "       719, 695, 697, 688, 695, 693, 704, 696, 678, 694, 709, 687, 705,\n",
              "       700, 716, 705, 678, 689, 703, 692, 709, 700, 717, 692, 717, 718,\n",
              "       701, 702, 694, 708, 708, 695, 700, 722, 714, 733, 685, 704, 716,\n",
              "       673, 713, 709, 705, 713, 705, 710, 675, 700, 723, 679, 718, 678,\n",
              "       701, 711, 686, 696, 708, 700, 684, 682, 729, 717, 697, 710, 703,\n",
              "       694, 711, 696, 707, 689, 687, 695, 709, 720, 700, 680, 725, 687,\n",
              "       727, 693, 723, 716, 687, 705, 722, 687, 718, 688, 717, 727, 689,\n",
              "       714, 712, 670, 680, 692, 703, 689, 689, 679, 701, 701, 668, 711,\n",
              "       706, 681, 731, 708, 707, 710, 707, 703, 705, 717, 698, 710, 714,\n",
              "       710, 707, 696, 687, 698, 696])"
            ]
          },
          "metadata": {},
          "execution_count": 13
        }
      ]
    },
    {
      "cell_type": "code",
      "source": [
        "np.random.seed(0)\n",
        "head_count_list = [np.random.binomial(1000, 0.7) for _ in range(500)]"
      ],
      "metadata": {
        "id": "n37ICNoIQG6_"
      },
      "execution_count": 14,
      "outputs": []
    },
    {
      "cell_type": "code",
      "source": [
        "assert head_count_array.tolist() == head_count_list"
      ],
      "metadata": {
        "id": "p1GJacbjQbJr"
      },
      "execution_count": 15,
      "outputs": []
    },
    {
      "cell_type": "code",
      "source": [
        "new_array = np.array(head_count_list)\n",
        "assert np.array_equal(new_array, head_count_array) == True"
      ],
      "metadata": {
        "id": "OSVLCqJLQeLv"
      },
      "execution_count": 16,
      "outputs": []
    },
    {
      "cell_type": "code",
      "source": [
        "frequency_array = head_count_array / 1000\n",
        "assert frequency_array.tolist() == [head_count / 1000\n",
        "                                    for head_count in head_count_list]\n",
        "assert frequency_array.tolist() == list(map(lambda x: x / 1000,\n",
        "                                        head_count_list))"
      ],
      "metadata": {
        "id": "KoK1HtTSQpob"
      },
      "execution_count": 17,
      "outputs": []
    },
    {
      "cell_type": "code",
      "source": [
        "print(frequency_array[:20])"
      ],
      "metadata": {
        "colab": {
          "base_uri": "https://localhost:8080/"
        },
        "id": "H4WI5ckhRaNZ",
        "outputId": "163e6e25-aa4e-4a14-e048-4d4a4b641649"
      },
      "execution_count": 18,
      "outputs": [
        {
          "output_type": "stream",
          "name": "stdout",
          "text": [
            "[0.697 0.69  0.7   0.707 0.702 0.699 0.723 0.67  0.702 0.713 0.721 0.689\n",
            " 0.711 0.697 0.717 0.691 0.731 0.697 0.722 0.728]\n"
          ]
        }
      ]
    },
    {
      "cell_type": "code",
      "source": [
        "min_freq = frequency_array.min()\n",
        "max_freq = frequency_array.max()\n",
        "print(f\"Minimum frequency observed: {min_freq}\")\n",
        "print(f\"Maximum frequency observed: {max_freq}\")\n",
        "print(f\"Difference across frequency range: {max_freq - min_freq}\")"
      ],
      "metadata": {
        "colab": {
          "base_uri": "https://localhost:8080/"
        },
        "id": "SpD2uy2NRiDn",
        "outputId": "099245fc-5d88-494d-d8df-d34e0c15c69d"
      },
      "execution_count": 19,
      "outputs": [
        {
          "output_type": "stream",
          "name": "stdout",
          "text": [
            "Minimum frequency observed: 0.656\n",
            "Maximum frequency observed: 0.733\n",
            "Difference across frequency range: 0.07699999999999996\n"
          ]
        }
      ]
    },
    {
      "cell_type": "code",
      "source": [
        "from collections import defaultdict\n",
        "frequency_counts = defaultdict(int)\n",
        "for frequency in frequency_array:\n",
        "    frequency_counts[frequency] += 1\n",
        "frequencies = list(frequency_counts.keys())\n",
        "counts = [frequency_counts[freq] for freq in frequencies]\n",
        "plt.scatter(frequencies, counts)\n",
        "plt.xlabel('Frequency')\n",
        "plt.ylabel('Count')\n",
        "plt.show()"
      ],
      "metadata": {
        "colab": {
          "base_uri": "https://localhost:8080/",
          "height": 449
        },
        "id": "LzdDCQoGRo3Z",
        "outputId": "1ff6f371-c453-47ad-f375-fcbd8de912e7"
      },
      "execution_count": 20,
      "outputs": [
        {
          "output_type": "display_data",
          "data": {
            "text/plain": [
              "<Figure size 640x480 with 1 Axes>"
            ],
            "image/png": "[encoded data removed]"
          },
          "metadata": {}
        }
      ]
    },
    {
      "cell_type": "code",
      "source": [
        "plt.hist(frequency_array, bins='auto', color='white', edgecolor='red')\n",
        "plt.xlabel('Binned Frequency')\n",
        "plt.ylabel('Count')\n",
        "plt.show()"
      ],
      "metadata": {
        "colab": {
          "base_uri": "https://localhost:8080/",
          "height": 449
        },
        "id": "W1kO6mvhSVVc",
        "outputId": "a8151bdd-3dd1-48cb-e4d9-3544086efcb6"
      },
      "execution_count": 21,
      "outputs": [
        {
          "output_type": "display_data",
          "data": {
            "text/plain": [
              "<Figure size 640x480 with 1 Axes>"
            ],
            "image/png": "[encoded data removed]"
          },
          "metadata": {}
        }
      ]
    },
    {
      "cell_type": "code",
      "source": [
        "counts, _, _ = plt.hist(frequency_array, bins='auto',\n",
        "                        edgecolor='black')\n",
        "print(f\"Number of Bins: {counts.size}\")"
      ],
      "metadata": {
        "colab": {
          "base_uri": "https://localhost:8080/",
          "height": 447
        },
        "id": "eHXPVVGHTAdo",
        "outputId": "8263efba-aee0-4db8-f560-c876f83b800e"
      },
      "execution_count": 22,
      "outputs": [
        {
          "output_type": "stream",
          "name": "stdout",
          "text": [
            "Number of Bins: 16\n"
          ]
        },
        {
          "output_type": "display_data",
          "data": {
            "text/plain": [
              "<Figure size 640x480 with 1 Axes>"
            ],
            "image/png": "[encoded data removed]"
          },
          "metadata": {}
        }
      ]
    },
    {
      "cell_type": "code",
      "source": [
        "counts, bin_edges, _ = plt.hist(frequency_array, bins='auto',\n",
        "                                edgecolor='black')\n",
        "bin_width = bin_edges[1] - bin_edges[0]\n",
        "assert bin_width == (max_freq - min_freq) / counts.size\n",
        "print(f\"Bin width: {bin_width}\")"
      ],
      "metadata": {
        "colab": {
          "base_uri": "https://localhost:8080/",
          "height": 447
        },
        "id": "5hRJtTijTjeY",
        "outputId": "bd2dce5b-2b67-451c-f457-d798bda8b241"
      },
      "execution_count": 23,
      "outputs": [
        {
          "output_type": "stream",
          "name": "stdout",
          "text": [
            "Bin width: 0.004812499999999997\n"
          ]
        },
        {
          "output_type": "display_data",
          "data": {
            "text/plain": [
              "<Figure size 640x480 with 1 Axes>"
            ],
            "image/png": "[encoded data removed]"
          },
          "metadata": {}
        }
      ]
    },
    {
      "cell_type": "code",
      "source": [
        "def output_bin_coverage(i):\n",
        "    count = int(counts[i])\n",
        "    range_start, range_end = bin_edges[i], bin_edges[i+1]\n",
        "    range_string = f\"{range_start} - {range_end}\"\n",
        "    print((f\"The bin for frequency range {range_string} contains \" f\"{count} element{'' if count == 1 else 's'}\"))\n",
        "\n",
        "for i in [0, 5]:\n",
        "    output_bin_coverage(i)\n"
      ],
      "metadata": {
        "colab": {
          "base_uri": "https://localhost:8080/"
        },
        "id": "WGL7B_isVIDT",
        "outputId": "2679ff90-7084-41dc-b959-d825996ad876"
      },
      "execution_count": 24,
      "outputs": [
        {
          "output_type": "stream",
          "name": "stdout",
          "text": [
            "The bin for frequency range 0.656 - 0.6608125 contains 1 element\n",
            "The bin for frequency range 0.6800625 - 0.684875 contains 20 elements\n"
          ]
        }
      ]
    },
    {
      "cell_type": "code",
      "source": [
        "assert counts[counts.argmax()] == counts.max()"
      ],
      "metadata": {
        "id": "QEbU2ch_VuMn"
      },
      "execution_count": 25,
      "outputs": []
    },
    {
      "cell_type": "code",
      "source": [
        "output_bin_coverage(counts.argmax())"
      ],
      "metadata": {
        "colab": {
          "base_uri": "https://localhost:8080/"
        },
        "id": "qrRSQfFOWEm2",
        "outputId": "1f3936db-3e45-412b-d001-b47e3a75df9f"
      },
      "execution_count": 26,
      "outputs": [
        {
          "output_type": "stream",
          "name": "stdout",
          "text": [
            "The bin for frequency range 0.6945 - 0.6993125 contains 72 elements\n"
          ]
        }
      ]
    },
    {
      "cell_type": "code",
      "source": [
        "likelihoods, bin_edges, _ = plt.hist(frequency_array, bins='auto',\n",
        "                                     edgecolor='black', density=True)\n",
        "plt.xlabel('Binned Frequency')\n",
        "plt.ylabel('Relative Likelihood')\n",
        "plt.show()"
      ],
      "metadata": {
        "colab": {
          "base_uri": "https://localhost:8080/",
          "height": 449
        },
        "id": "08umrUQyWJa1",
        "outputId": "7088ea65-df9f-4a8d-9a5a-8274beefdcb7"
      },
      "execution_count": 27,
      "outputs": [
        {
          "output_type": "display_data",
          "data": {
            "text/plain": [
              "<Figure size 640x480 with 1 Axes>"
            ],
            "image/png": "[encoded data removed]"
          },
          "metadata": {}
        }
      ]
    },
    {
      "cell_type": "code",
      "source": [
        "assert likelihoods.sum() * bin_width == 1.0"
      ],
      "metadata": {
        "id": "xAdbZWFBWuXs"
      },
      "execution_count": 28,
      "outputs": []
    },
    {
      "cell_type": "code",
      "source": [
        "index = likelihoods.argmax()\n",
        "area = likelihoods[index] * bin_width\n",
        "range_start, range_end = bin_edges[index], bin_edges[index+1]\n",
        "range_string = f\"{range_start} - {range_end}\"\n",
        "print(f\"Sampled frequency falls within interval {range_string} with probability {area}\")"
      ],
      "metadata": {
        "colab": {
          "base_uri": "https://localhost:8080/"
        },
        "id": "ZSgCy__IW3Jq",
        "outputId": "9c9584ca-3c1a-47d4-aeca-d139641f8b44"
      },
      "execution_count": 29,
      "outputs": [
        {
          "output_type": "stream",
          "name": "stdout",
          "text": [
            "Sampled frequency falls within interval 0.6945 - 0.6993125 with probability 0.144\n"
          ]
        }
      ]
    },
    {
      "cell_type": "code",
      "source": [
        "peak_index = likelihoods.argmax()\n",
        "start_index, end_index = (peak_index - 1, peak_index + 2)\n",
        "area = likelihoods[start_index: end_index + 1].sum() * bin_width\n",
        "range_start, range_end = bin_edges[start_index], bin_edges[end_index]\n",
        "range_string = f\"{range_start} - {range_end}\"\n",
        "print(f\"Sampled frequency falls within interval {range_string} with probability {area}\")"
      ],
      "metadata": {
        "colab": {
          "base_uri": "https://localhost:8080/"
        },
        "id": "VfqEftJdXn1I",
        "outputId": "eb44c9af-5fb0-4334-cfd5-2b3c5eeceb51"
      },
      "execution_count": 30,
      "outputs": [
        {
          "output_type": "stream",
          "name": "stdout",
          "text": [
            "Sampled frequency falls within interval 0.6896875 - 0.704125 with probability 0.464\n"
          ]
        }
      ]
    },
    {
      "cell_type": "code",
      "source": [
        "def compute_high_confidence_interval(likelihoods, bin_width):\n",
        "  peak_index = likelihoods.argmax()\n",
        "  area = likelihoods[peak_index] * bin_width\n",
        "  start_index, end_index = peak_index, peak_index + 1\n",
        "  while area < 0.95:\n",
        "    if start_index > 0: start_index -= 1\n",
        "    if end_index < likelihoods.size - 1: end_index += 1\n",
        "    area = likelihoods[start_index: end_index + 1].sum() * bin_width\n",
        "  range_start, range_end = bin_edges[start_index], bin_edges[end_index]\n",
        "  range_string = f\"{range_start:.6f} - {range_end:.6f}\"\n",
        "  print((f\"The frequency range {range_string} represents a \" f\"{100 * area:.2f}% confidence interval\"))\n",
        "  return start_index, end_index\n",
        "\n",
        "compute_high_confidence_interval(likelihoods, bin_width)"
      ],
      "metadata": {
        "colab": {
          "base_uri": "https://localhost:8080/"
        },
        "id": "lpvPjMl2X6wH",
        "outputId": "ac4eb0f6-a9d5-4999-87cb-a2162f6e7b80"
      },
      "execution_count": 31,
      "outputs": [
        {
          "output_type": "stream",
          "name": "stdout",
          "text": [
            "The frequency range 0.670438 - 0.723375 represents a 95.40% confidence interval\n"
          ]
        },
        {
          "output_type": "execute_result",
          "data": {
            "text/plain": [
              "(3, 14)"
            ]
          },
          "metadata": {},
          "execution_count": 31
        }
      ]
    },
    {
      "cell_type": "code",
      "source": [
        "np.random.seed(0)\n",
        "head_count_array = np.random.binomial(1000, 0.7, 100000)\n",
        "frequency_array = head_count_array / 1000\n",
        "assert frequency_array.size == 100000"
      ],
      "metadata": {
        "id": "SGvEx_Q3YMvh"
      },
      "execution_count": 32,
      "outputs": []
    },
    {
      "cell_type": "code",
      "source": [
        "likelihoods, bin_edges, patches = plt.hist(frequency_array, bins='auto', edgecolor='black', density=True)\n",
        "bin_width = bin_edges[1] - bin_edges[0]\n",
        "start_index, end_index = compute_high_confidence_interval(likelihoods, bin_width)\n",
        "for i in range(start_index, end_index): patches[i].set_facecolor('yellow')\n",
        "plt.xlabel('Binned Frequency')\n",
        "plt.ylabel('Relative Likelihood')\n",
        "plt.show()"
      ],
      "metadata": {
        "colab": {
          "base_uri": "https://localhost:8080/",
          "height": 466
        },
        "id": "sQBlzhDXYSaV",
        "outputId": "cc010a28-8c56-48a5-8c91-4ee771b93b4b"
      },
      "execution_count": 33,
      "outputs": [
        {
          "output_type": "stream",
          "name": "stdout",
          "text": [
            "The frequency range 0.670429 - 0.727857 represents a 95.42% confidence interval\n"
          ]
        },
        {
          "output_type": "display_data",
          "data": {
            "text/plain": [
              "<Figure size 640x480 with 1 Axes>"
            ],
            "image/png": "[encoded data removed]"
          },
          "metadata": {}
        }
      ]
    },
    {
      "cell_type": "code",
      "source": [
        "np.random.seed(0)\n",
        "head_count_array = np.random.binomial(50000, 0.7, 100000)\n",
        "frequency_array = head_count_array / 50000\n",
        "likelihoods, bin_edges, patches = plt.hist(frequency_array, bins='auto', edgecolor='black', density=True)\n",
        "bin_width = bin_edges[1] - bin_edges[0]\n",
        "start_index, end_index = compute_high_confidence_interval(likelihoods, bin_width)\n",
        "for i in range(start_index, end_index): patches[i].set_facecolor('yellow')\n",
        "plt.xlabel('Binned Frequency')\n",
        "plt.ylabel('Relative Likelihood')\n",
        "plt.show()"
      ],
      "metadata": {
        "colab": {
          "base_uri": "https://localhost:8080/",
          "height": 466
        },
        "id": "iDpyu3ipa3LF",
        "outputId": "02ab3439-a81a-41ee-a743-60d67ca5d117"
      },
      "execution_count": 34,
      "outputs": [
        {
          "output_type": "stream",
          "name": "stdout",
          "text": [
            "The frequency range 0.695769 - 0.703708 represents a 95.06% confidence interval\n"
          ]
        },
        {
          "output_type": "display_data",
          "data": {
            "text/plain": [
              "<Figure size 640x480 with 1 Axes>"
            ],
            "image/png": "[encoded data removed]"
          },
          "metadata": {}
        }
      ]
    },
    {
      "cell_type": "code",
      "source": [
        "np.random.seed(0)\n",
        "likelihoods, bin_edges = np.histogram(frequency_array, bins='auto', density=True)\n",
        "bin_width = bin_edges[1] - bin_edges[0]\n",
        "compute_high_confidence_interval(likelihoods, bin_width)"
      ],
      "metadata": {
        "colab": {
          "base_uri": "https://localhost:8080/"
        },
        "id": "OLznmV9Vb73x",
        "outputId": "8c7c00b5-db7b-4d42-952d-128d1b8933b8"
      },
      "execution_count": 35,
      "outputs": [
        {
          "output_type": "stream",
          "name": "stdout",
          "text": [
            "The frequency range 0.695769 - 0.703708 represents a 95.06% confidence interval\n"
          ]
        },
        {
          "output_type": "execute_result",
          "data": {
            "text/plain": [
              "(47, 114)"
            ]
          },
          "metadata": {},
          "execution_count": 35
        }
      ]
    },
    {
      "cell_type": "code",
      "source": [
        "np.random.seed(0)\n",
        "total_cards = 52\n",
        "red_card_count = np.random.randint(0, total_cards + 1)"
      ],
      "metadata": {
        "id": "8bNb1OVRdE_H"
      },
      "execution_count": 36,
      "outputs": []
    },
    {
      "cell_type": "code",
      "source": [
        "red_card_count"
      ],
      "metadata": {
        "colab": {
          "base_uri": "https://localhost:8080/"
        },
        "id": "jFrRR56CeAz2",
        "outputId": "dca993a1-1b20-4a9d-d921-1456b653fe80"
      },
      "execution_count": 37,
      "outputs": [
        {
          "output_type": "execute_result",
          "data": {
            "text/plain": [
              "44"
            ]
          },
          "metadata": {},
          "execution_count": 37
        }
      ]
    },
    {
      "cell_type": "code",
      "source": [
        "black_card_count = total_cards - red_card_count\n",
        "assert black_card_count != red_card_count"
      ],
      "metadata": {
        "id": "4V60ESO2eGF4"
      },
      "execution_count": 38,
      "outputs": []
    },
    {
      "cell_type": "code",
      "source": [
        "def get_matching_event(event_condition, sample_space):\n",
        "    return set([outcome for outcome in sample_space if event_condition(outcome)])\n",
        "\n",
        "def compute_event_probability(event_condition, generic_sample_space):\n",
        "  event = get_matching_event(event_condition, generic_sample_space)\n",
        "  if type(generic_sample_space) == type(set()):\n",
        "    return len(event) / len(generic_sample_space)\n",
        "  event_size = sum(generic_sample_space[outcome] for outcome in event)\n",
        "  return event_size / sum(generic_sample_space.values())\n",
        "\n",
        "weighted_sample_space = {'red_card': red_card_count, 'black_card': black_card_count}\n",
        "prob_red = compute_event_probability(lambda x: x == 'red_card', weighted_sample_space)"
      ],
      "metadata": {
        "id": "GCltdke9gJUn"
      },
      "execution_count": 39,
      "outputs": []
    },
    {
      "cell_type": "code",
      "source": [
        "prob_red"
      ],
      "metadata": {
        "colab": {
          "base_uri": "https://localhost:8080/"
        },
        "id": "CLbuiMclgbpF",
        "outputId": "88119728-b236-4aba-e30a-25d1a14a1fc8"
      },
      "execution_count": 40,
      "outputs": [
        {
          "output_type": "execute_result",
          "data": {
            "text/plain": [
              "0.8461538461538461"
            ]
          },
          "metadata": {},
          "execution_count": 40
        }
      ]
    },
    {
      "cell_type": "code",
      "source": [
        "44/52"
      ],
      "metadata": {
        "colab": {
          "base_uri": "https://localhost:8080/"
        },
        "id": "-jVnCS6vhKeN",
        "outputId": "0b7d214b-e169-4be6-c0f0-5eee4111a4e1"
      },
      "execution_count": 41,
      "outputs": [
        {
          "output_type": "execute_result",
          "data": {
            "text/plain": [
              "0.8461538461538461"
            ]
          },
          "metadata": {},
          "execution_count": 41
        }
      ]
    },
    {
      "cell_type": "code",
      "source": [
        "assert prob_red == red_card_count / total_cards"
      ],
      "metadata": {
        "id": "8YLAvVo6hL0A"
      },
      "execution_count": 42,
      "outputs": []
    },
    {
      "cell_type": "code",
      "source": [
        "np.random.seed(0)\n",
        "color = 'red' if np.random.binomial(1, prob_red) else 'black'\n",
        "print(f\"The first card in the shuffled deck is {color}\")"
      ],
      "metadata": {
        "colab": {
          "base_uri": "https://localhost:8080/"
        },
        "id": "f4W5tW3ThfBR",
        "outputId": "dd63ed76-f9f9-474f-b6f6-46d7e49ed2ed"
      },
      "execution_count": 43,
      "outputs": [
        {
          "output_type": "stream",
          "name": "stdout",
          "text": [
            "The first card in the shuffled deck is red\n"
          ]
        }
      ]
    },
    {
      "cell_type": "code",
      "source": [
        "np.random.seed(0)\n",
        "red_count = np.random.binomial(10, prob_red)\n",
        "print(f\"In {red_count} of out 10 shuffles, a red card came up first.\")"
      ],
      "metadata": {
        "colab": {
          "base_uri": "https://localhost:8080/"
        },
        "id": "_dbQnD1Zhn9z",
        "outputId": "06afd5e8-c80b-47f5-812a-85ddfbedbaf9"
      },
      "execution_count": 44,
      "outputs": [
        {
          "output_type": "stream",
          "name": "stdout",
          "text": [
            "In 8 of out 10 shuffles, a red card came up first.\n"
          ]
        }
      ]
    },
    {
      "cell_type": "code",
      "source": [
        "np.random.seed(0)\n",
        "red_card_count_array = np.random.binomial(50000, prob_red, 100000)\n",
        "frequency_array = red_card_count_array / 50000\n",
        "likelihoods, bin_edges = np.histogram(frequency_array, bins='auto', density=True)\n",
        "bin_width = bin_edges[1] - bin_edges[0]\n",
        "start_index, end_index = compute_high_confidence_interval(likelihoods, bin_width)"
      ],
      "metadata": {
        "colab": {
          "base_uri": "https://localhost:8080/"
        },
        "id": "JpFimRwohuZg",
        "outputId": "9bd6509c-d981-41ea-be1f-1df174b9d08e"
      },
      "execution_count": 45,
      "outputs": [
        {
          "output_type": "stream",
          "name": "stdout",
          "text": [
            "The frequency range 0.842865 - 0.849139 represents a 95.16% confidence interval\n"
          ]
        }
      ]
    },
    {
      "cell_type": "code",
      "source": [
        "range_start = round(0.842771 * total_cards)\n",
        "range_end = round(0.849139 * total_cards)\n",
        "print(f\"The number of red cards in the deck is between {range_start} and {range_end}\")"
      ],
      "metadata": {
        "colab": {
          "base_uri": "https://localhost:8080/"
        },
        "id": "hU_pe2GIiYON",
        "outputId": "0ce9a7a4-9e23-4b7d-e682-b18d3b805463"
      },
      "execution_count": 46,
      "outputs": [
        {
          "output_type": "stream",
          "name": "stdout",
          "text": [
            "The number of red cards in the deck is between 44 and 44\n"
          ]
        }
      ]
    },
    {
      "cell_type": "code",
      "source": [
        "if red_card_count == 44:\n",
        "  print('We are correct! There are 44 red cards in the deck')\n",
        "else:\n",
        "  print('Oops! Our sampling estimation was wrong.')"
      ],
      "metadata": {
        "colab": {
          "base_uri": "https://localhost:8080/"
        },
        "id": "O49Yr2btimAp",
        "outputId": "fa6e1af2-17f7-4ca0-8781-bc3a00fbcaf3"
      },
      "execution_count": 47,
      "outputs": [
        {
          "output_type": "stream",
          "name": "stdout",
          "text": [
            "We are correct! There are 44 red cards in the deck\n"
          ]
        }
      ]
    },
    {
      "cell_type": "code",
      "source": [
        "np.random.seed(0)\n",
        "card_deck = [1, 1, 0, 0]\n",
        "np.random.shuffle(card_deck)\n",
        "print(card_deck)"
      ],
      "metadata": {
        "colab": {
          "base_uri": "https://localhost:8080/"
        },
        "id": "LTXOOPryirrH",
        "outputId": "4a5a8194-cbb0-4593-fb44-b6c91fd1c7fa"
      },
      "execution_count": 48,
      "outputs": [
        {
          "output_type": "stream",
          "name": "stdout",
          "text": [
            "[0, 0, 1, 1]\n"
          ]
        }
      ]
    },
    {
      "cell_type": "code",
      "source": [
        "np.random.seed(0)\n",
        "unshuffled_deck = [1, 1, 0, 0]\n",
        "shuffled_deck = np.random.permutation(unshuffled_deck)\n",
        "assert unshuffled_deck == [1, 1, 0, 0]\n",
        "print(shuffled_deck)"
      ],
      "metadata": {
        "colab": {
          "base_uri": "https://localhost:8080/"
        },
        "id": "vB9gFfEAjIX6",
        "outputId": "d4aa136d-b5a2-442b-cf4c-f5318ec5264d"
      },
      "execution_count": 49,
      "outputs": [
        {
          "output_type": "stream",
          "name": "stdout",
          "text": [
            "[0 0 1 1]\n"
          ]
        }
      ]
    },
    {
      "cell_type": "code",
      "source": [
        "import itertools\n",
        "for permutation in list(itertools.permutations(unshuffled_deck))[:3]:\n",
        "  print(permutation)"
      ],
      "metadata": {
        "colab": {
          "base_uri": "https://localhost:8080/"
        },
        "id": "WBegDM2DjYiw",
        "outputId": "c6ccf296-dcda-4bc1-b463-4799f0b0fa01"
      },
      "execution_count": 50,
      "outputs": [
        {
          "output_type": "stream",
          "name": "stdout",
          "text": [
            "(1, 1, 0, 0)\n",
            "(1, 1, 0, 0)\n",
            "(1, 0, 1, 0)\n"
          ]
        }
      ]
    },
    {
      "cell_type": "code",
      "source": [
        "for permutation in list(itertools.permutations([0, 1, 2, 3]))[:3]:\n",
        "  print(permutation)"
      ],
      "metadata": {
        "colab": {
          "base_uri": "https://localhost:8080/"
        },
        "id": "qVvo51vxk4mX",
        "outputId": "34a6727a-4436-4083-f043-9b6a02b0e272"
      },
      "execution_count": 51,
      "outputs": [
        {
          "output_type": "stream",
          "name": "stdout",
          "text": [
            "(0, 1, 2, 3)\n",
            "(0, 1, 3, 2)\n",
            "(0, 2, 1, 3)\n"
          ]
        }
      ]
    },
    {
      "cell_type": "code",
      "source": [
        "weighted_sample_space = defaultdict(int)\n",
        "for permutation in itertools.permutations(unshuffled_deck):\n",
        "    weighted_sample_space[permutation] += 1\n",
        "for permutation, count in weighted_sample_space.items():\n",
        "    print(f\"Permutation {permutation} occurs {count} times\")"
      ],
      "metadata": {
        "colab": {
          "base_uri": "https://localhost:8080/"
        },
        "id": "oqYLh906lCXG",
        "outputId": "d73bc62c-64fc-4877-8fcb-333bdd5d74f3"
      },
      "execution_count": 52,
      "outputs": [
        {
          "output_type": "stream",
          "name": "stdout",
          "text": [
            "Permutation (1, 1, 0, 0) occurs 4 times\n",
            "Permutation (1, 0, 1, 0) occurs 4 times\n",
            "Permutation (1, 0, 0, 1) occurs 4 times\n",
            "Permutation (0, 1, 1, 0) occurs 4 times\n",
            "Permutation (0, 1, 0, 1) occurs 4 times\n",
            "Permutation (0, 0, 1, 1) occurs 4 times\n"
          ]
        }
      ]
    },
    {
      "cell_type": "code",
      "source": [
        "sample_space = set(itertools.permutations(unshuffled_deck))\n",
        "event_condition = lambda x: list(x) == unshuffled_deck\n",
        "prob = compute_event_probability(event_condition, sample_space)\n",
        "assert prob == 1 / len(sample_space)\n",
        "print(f\"Probability that a shuffle does not alter the deck is {prob}\")"
      ],
      "metadata": {
        "colab": {
          "base_uri": "https://localhost:8080/"
        },
        "id": "bcm0bw7klLh4",
        "outputId": "081edc4d-543a-4702-fa9d-1138dc59b2c7"
      },
      "execution_count": 53,
      "outputs": [
        {
          "output_type": "stream",
          "name": "stdout",
          "text": [
            "Probability that a shuffle does not alter the deck is 0.16666666666666666\n"
          ]
        }
      ]
    },
    {
      "cell_type": "code",
      "source": [
        "red_cards = 5 * [1]\n",
        "black_cards = 5 * [0]\n",
        "unshuffled_deck = red_cards + black_cards\n",
        "sample_space = set(itertools.permutations(unshuffled_deck))\n",
        "print(f\"Sample space for a 10-card deck contains {len(sample_space)} elements\")"
      ],
      "metadata": {
        "colab": {
          "base_uri": "https://localhost:8080/"
        },
        "id": "ymlxOGG6lla1",
        "outputId": "120e744a-44c2-44cd-fabf-39857f93682e"
      },
      "execution_count": 54,
      "outputs": [
        {
          "output_type": "stream",
          "name": "stdout",
          "text": [
            "Sample space for a 10-card deck contains 252 elements\n"
          ]
        }
      ]
    },
    {
      "cell_type": "code",
      "source": [],
      "metadata": {
        "id": "XkVevTq7l3ft"
      },
      "execution_count": null,
      "outputs": []
    }
  ]
}